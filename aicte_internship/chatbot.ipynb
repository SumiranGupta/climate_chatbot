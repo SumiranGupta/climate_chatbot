{
 "cells": [
  {
   "cell_type": "code",
   "execution_count": 1,
   "id": "a76f28b4-2d63-429a-b5c4-7d12f93fe9df",
   "metadata": {},
   "outputs": [],
   "source": [
    "# Import libraries\n",
    "import nltk\n",
    "from sklearn.feature_extraction.text import CountVectorizer\n",
    "from sklearn.metrics.pairwise import cosine_similarity\n",
    "import random"
   ]
  },
  {
   "cell_type": "code",
   "execution_count": 2,
   "id": "607da751-e525-4e25-9cfb-9748f23e697a",
   "metadata": {},
   "outputs": [
    {
     "name": "stderr",
     "output_type": "stream",
     "text": [
      "[nltk_data] Downloading package punkt to\n",
      "[nltk_data]     C:\\Users\\KIIT\\AppData\\Roaming\\nltk_data...\n",
      "[nltk_data]   Package punkt is already up-to-date!\n",
      "[nltk_data] Downloading package wordnet to\n",
      "[nltk_data]     C:\\Users\\KIIT\\AppData\\Roaming\\nltk_data...\n",
      "[nltk_data]   Package wordnet is already up-to-date!\n"
     ]
    },
    {
     "data": {
      "text/plain": [
       "True"
      ]
     },
     "execution_count": 2,
     "metadata": {},
     "output_type": "execute_result"
    }
   ],
   "source": [
    "nltk.download('punkt')\n",
    "nltk.download('wordnet')"
   ]
  },
  {
   "cell_type": "code",
   "execution_count": 3,
   "id": "2818dd3b-ec1f-4c06-9ad3-5ba76066dc2f",
   "metadata": {},
   "outputs": [],
   "source": [
    "responses = {\n",
    "    \"climate change\": [\n",
    "        \"Climate change refers to long-term alterations in temperature, precipitation, and other atmospheric conditions on Earth.\",\n",
    "        \"It is primarily caused by human activities like burning fossil fuels and deforestation.\"\n",
    "    ],\n",
    "    \"green technologies\": [\n",
    "        \"Green technologies include renewable energy sources like solar, wind, and hydropower.\",\n",
    "        \"They aim to reduce carbon emissions and promote sustainable development.\"\n",
    "    ],\n",
    "    \"global warming\": [\n",
    "        \"Global warming is the increase in Earth's average surface temperature due to greenhouse gas emissions.\",\n",
    "        \"It leads to rising sea levels, extreme weather, and loss of biodiversity.\"\n",
    "    ],\n",
    "    \"carbon footprint\": [\n",
    "        \"A carbon footprint measures the total greenhouse gases emitted by an individual, organization, or activity.\",\n",
    "        \"You can reduce your carbon footprint by using public transport, conserving energy, and adopting renewable energy.\"\n",
    "    ],\n",
    "    \"recycling\": [\n",
    "        \"Recycling involves converting waste materials into new products to reduce resource consumption.\",\n",
    "        \"It helps minimize landfill waste and conserve natural resources.\"\n",
    "    ]\n",
    "}\n",
    "\n",
    "corpus = []\n",
    "keys = []\n",
    "for topic, replies in responses.items():\n",
    "    for reply in replies:\n",
    "        corpus.append(reply)\n",
    "        keys.append(topic)\n",
    "\n",
    "# Preprocess user input\n",
    "def preprocess_input(user_input):\n",
    "    tokens = nltk.word_tokenize(user_input.lower())\n",
    "    return ' '.join(tokens)\n",
    "\n",
    "def get_response(user_input):\n",
    "    processed_input = preprocess_input(user_input)\n",
    "    corpus_with_input = corpus + [processed_input]\n",
    "    \n",
    "    vectorizer = CountVectorizer().fit_transform(corpus_with_input)\n",
    "    vectors = vectorizer.toarray()\n",
    "    \n",
    "    cosine_similarities = cosine_similarity(vectors[-1], vectors[:-1])\n",
    "    similar_idx = cosine_similarities.argsort()[0][-1]\n",
    "    similarity_score = cosine_similarities[0][similar_idx]\n",
    "    \n",
    "    if similarity_score > 0.1:\n",
    "        return random.choice(responses[keys[similar_idx]])\n",
    "    else:\n",
    "        return \"I'm sorry, I don't understand that. Could you ask something else about climate change or green technologies?\"\n",
    "\n",
    "def climate_education_bot():\n",
    "    print(\"Climate Education Bot: Hello! I’m here to answer your questions about climate change and green technologies.\")\n",
    "    print(\"Type 'exit' to end the conversation.\\n\")\n",
    "    \n",
    "    while True:\n",
    "        user_input = input(\"You: \")\n",
    "        if user_input.lower() == \"exit\":\n",
    "            print(\"Climate Education Bot: Goodbye! Stay green!\")\n",
    "            break\n",
    "        response = get_response(user_input)\n",
    "        print(f\"Climate Education Bot: {response}\")"
   ]
  },
  {
   "cell_type": "code",
   "execution_count": 5,
   "id": "643f66b7-3c16-4b2a-82e3-1dbe02611740",
   "metadata": {},
   "outputs": [],
   "source": [
    "from sklearn.metrics.pairwise import cosine_similarity\n",
    "from sklearn.feature_extraction.text import CountVectorizer\n",
    "\n",
    "def get_response(user_input):\n",
    "    processed_input = preprocess_input(user_input)\n",
    "    corpus_with_input = corpus + [processed_input]\n",
    "    \n",
    "    vectorizer = CountVectorizer().fit_transform(corpus_with_input)\n",
    "    vectors = vectorizer.toarray()\n",
    "    \n",
    "    query_vector = vectors[-1].reshape(1, -1) \n",
    "    corpus_vectors = vectors[:-1] \n",
    "    \n",
    "    cosine_similarities = cosine_similarity(query_vector, corpus_vectors)\n",
    "    similar_idx = cosine_similarities.argsort()[0][-1]\n",
    "    similarity_score = cosine_similarities[0][similar_idx]\n",
    "    \n",
    "    if similarity_score > 0.1:\n",
    "        return random.choice(responses[keys[similar_idx]])\n",
    "    else:\n",
    "        return \"I'm sorry, I don't understand that. Could you ask something else about climate change or green technologies?\"\n"
   ]
  },
  {
   "cell_type": "code",
   "execution_count": 6,
   "id": "48336337-22b8-4643-9d30-783c99801649",
   "metadata": {},
   "outputs": [
    {
     "name": "stdout",
     "output_type": "stream",
     "text": [
      "Climate Education Bot: Hello! I’m here to answer your questions about climate change and green technologies.\n",
      "Type 'exit' to end the conversation.\n",
      "\n"
     ]
    },
    {
     "name": "stdin",
     "output_type": "stream",
     "text": [
      "You:  global warming\n"
     ]
    },
    {
     "name": "stdout",
     "output_type": "stream",
     "text": [
      "Climate Education Bot: It leads to rising sea levels, extreme weather, and loss of biodiversity.\n"
     ]
    },
    {
     "name": "stdin",
     "output_type": "stream",
     "text": [
      "You:  Tell me about solar energy.\n"
     ]
    },
    {
     "name": "stdout",
     "output_type": "stream",
     "text": [
      "Climate Education Bot: They aim to reduce carbon emissions and promote sustainable development.\n"
     ]
    },
    {
     "name": "stdin",
     "output_type": "stream",
     "text": [
      "You:  What is the greenhouse effect?\n"
     ]
    },
    {
     "name": "stdout",
     "output_type": "stream",
     "text": [
      "Climate Education Bot: It leads to rising sea levels, extreme weather, and loss of biodiversity.\n"
     ]
    },
    {
     "name": "stdin",
     "output_type": "stream",
     "text": [
      "You:  Why should we recycle?\n"
     ]
    },
    {
     "name": "stdout",
     "output_type": "stream",
     "text": [
      "Climate Education Bot: I'm sorry, I don't understand that. Could you ask something else about climate change or green technologies?\n"
     ]
    },
    {
     "name": "stdin",
     "output_type": "stream",
     "text": [
      "You:  What is e-waste, and how should it be handled?\n"
     ]
    },
    {
     "name": "stdout",
     "output_type": "stream",
     "text": [
      "Climate Education Bot: Recycling involves converting waste materials into new products to reduce resource consumption.\n"
     ]
    },
    {
     "name": "stdin",
     "output_type": "stream",
     "text": [
      "You:  exit\n"
     ]
    },
    {
     "name": "stdout",
     "output_type": "stream",
     "text": [
      "Climate Education Bot: Goodbye! Stay green!\n"
     ]
    }
   ],
   "source": [
    "climate_education_bot()"
   ]
  },
  {
   "cell_type": "code",
   "execution_count": null,
   "id": "44b19bef-45bf-4fdb-8e2a-4bb52364312e",
   "metadata": {},
   "outputs": [],
   "source": []
  }
 ],
 "metadata": {
  "kernelspec": {
   "display_name": "Python 3 (ipykernel)",
   "language": "python",
   "name": "python3"
  },
  "language_info": {
   "codemirror_mode": {
    "name": "ipython",
    "version": 3
   },
   "file_extension": ".py",
   "mimetype": "text/x-python",
   "name": "python",
   "nbconvert_exporter": "python",
   "pygments_lexer": "ipython3",
   "version": "3.13.1"
  }
 },
 "nbformat": 4,
 "nbformat_minor": 5
}
